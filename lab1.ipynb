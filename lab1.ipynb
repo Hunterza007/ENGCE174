{
  "nbformat": 4,
  "nbformat_minor": 0,
  "metadata": {
    "colab": {
      "provenance": [],
      "authorship_tag": "ABX9TyMoso5Wlyt8KqtrN/Geyfb7",
      "include_colab_link": true
    },
    "kernelspec": {
      "name": "python3",
      "display_name": "Python 3"
    },
    "language_info": {
      "name": "python"
    }
  },
  "cells": [
    {
      "cell_type": "markdown",
      "metadata": {
        "id": "view-in-github",
        "colab_type": "text"
      },
      "source": [
        "<a href=\"https://colab.research.google.com/github/Hunterza007/ENGCE174/blob/main/lab1.ipynb\" target=\"_parent\"><img src=\"https://colab.research.google.com/assets/colab-badge.svg\" alt=\"Open In Colab\"/></a>"
      ]
    },
    {
      "cell_type": "code",
      "execution_count": 2,
      "metadata": {
        "colab": {
          "base_uri": "https://localhost:8080/"
        },
        "id": "v_3uDA_VlHYW",
        "outputId": "c70420ba-dfd7-44de-fb44-bb32a2f37dfd"
      },
      "outputs": [
        {
          "output_type": "stream",
          "name": "stdout",
          "text": [
            "[0, 1, 4, 9, 16, 25, 36, 49, 64, 81]\n",
            "{0: 0, 1: 1, 2: 4, 3: 9, 4: 16}\n",
            "{0, 64, 4, 36, 16}\n"
          ]
        }
      ],
      "source": [
        "from __future__ import print_function\n",
        "squares = [x**2 for x in range(10)]\n",
        "square_dict = {x: x**2 for x in range(5)}\n",
        "even_squares = {x**2 for x in range(10) if x % 2 == 0}\n",
        "\n",
        "print(squares)\n",
        "print(square_dict)\n",
        "print(even_squares)\n"
      ]
    },
    {
      "cell_type": "code",
      "source": [
        "square = lambda x: x**2\n",
        "print(square(5))"
      ],
      "metadata": {
        "colab": {
          "base_uri": "https://localhost:8080/"
        },
        "id": "nHu0EswWwIY5",
        "outputId": "dba4d838-0784-42e5-aeb9-96616504775b"
      },
      "execution_count": 3,
      "outputs": [
        {
          "output_type": "stream",
          "name": "stdout",
          "text": [
            "25\n"
          ]
        }
      ]
    },
    {
      "cell_type": "code",
      "source": [
        "def fibonacci():\n",
        "     a , b = 0 , 1\n",
        "     while True :\n",
        "      yield a\n",
        "      a , b = b , a + b\n",
        "fib = fibonacci()\n",
        "print(next(fib))\n",
        "print(next(fib))\n"
      ],
      "metadata": {
        "colab": {
          "base_uri": "https://localhost:8080/"
        },
        "id": "ak29HR9OwcYW",
        "outputId": "43f42160-4627-41a7-88a4-0abc20f2f720"
      },
      "execution_count": 6,
      "outputs": [
        {
          "output_type": "stream",
          "name": "stdout",
          "text": [
            "0\n",
            "1\n"
          ]
        }
      ]
    },
    {
      "cell_type": "code",
      "source": [
        "numbers = [1 , 2 , 3 , 4 , 5]\n",
        "print(\"First element :\" , numbers[0])\n",
        "print(\"Last element :\" ,numbers[-1])\n",
        "print(\"Sliced elements :\" ,numbers[2:4])\n",
        "numbers.append(6)\n",
        "print(\"After append :\" ,numbers)\n",
        "numbers.remove(3)\n",
        "print(\"After removal :\" , numbers)"
      ],
      "metadata": {
        "colab": {
          "base_uri": "https://localhost:8080/"
        },
        "id": "5FvihxoRxgbU",
        "outputId": "4df1bc25-3759-4db5-bf00-ad557514f0b7"
      },
      "execution_count": 11,
      "outputs": [
        {
          "output_type": "stream",
          "name": "stdout",
          "text": [
            "First element : 1\n",
            "Last element : 5\n",
            "Sliced elements : [3, 4]\n",
            "After append : [1, 2, 3, 4, 5, 6]\n",
            "After removal : [1, 2, 4, 5, 6]\n"
          ]
        }
      ]
    },
    {
      "cell_type": "code",
      "source": [
        "even_numbers = [x for x in range(10) if x % 2 == 0]\n",
        "squares = [num**2 for num in even_numbers]\n",
        "\n",
        "print(\"Squares of even numbers\" , squares)"
      ],
      "metadata": {
        "colab": {
          "base_uri": "https://localhost:8080/"
        },
        "id": "8dpsH5lEzh0k",
        "outputId": "cb069d1c-15f4-47e1-b74d-bcc41bf5b204"
      },
      "execution_count": 15,
      "outputs": [
        {
          "output_type": "stream",
          "name": "stdout",
          "text": [
            "Squares of even numbers [0, 4, 16, 36, 64]\n"
          ]
        }
      ]
    },
    {
      "cell_type": "code",
      "source": [
        "names = [\"Alice\", \"Bob\", \"Charlie\"]\n",
        "ages = [25,30,35]\n",
        "city = [\"New York\", \"Los Angeles\", \"Chicago\"]\n",
        "for name, age, city in zip(names, ages, city) :\n",
        "     print(f\"{name} is {age} years old and lives in {city}\")"
      ],
      "metadata": {
        "colab": {
          "base_uri": "https://localhost:8080/"
        },
        "id": "TYaTJP7r0mbN",
        "outputId": "f6d3260c-ccaa-4a7f-a789-38d938d5d4e0"
      },
      "execution_count": 18,
      "outputs": [
        {
          "output_type": "stream",
          "name": "stdout",
          "text": [
            "Alice is 25 years old and lives in New York\n",
            "Bob is 30 years old and lives in Los Angeles\n",
            "Charlie is 35 years old and lives in Chicago\n"
          ]
        }
      ]
    },
    {
      "cell_type": "code",
      "source": [
        "coordinates = (3, 5)\n",
        "x, y = coordinates\n",
        "print(\"x-coordinate:\", x)\n",
        "print(\"y-coordinate:\", y)\n",
        "location = {(3, 5): \"Home\", (10, 20): \"Office\"}\n",
        "print(\"Location at (3, 5):\", location[(3, 5)])"
      ],
      "metadata": {
        "colab": {
          "base_uri": "https://localhost:8080/"
        },
        "id": "z1F2q7Y92Pn6",
        "outputId": "323ecb36-45c4-4af0-ef42-e1211058c94d"
      },
      "execution_count": 25,
      "outputs": [
        {
          "output_type": "stream",
          "name": "stdout",
          "text": [
            "x-coordinate: 3\n",
            "y-coordinate: 5\n",
            "Location at (3, 5): Home\n"
          ]
        }
      ]
    },
    {
      "cell_type": "code",
      "source": [
        "from collections import namedtuple\n",
        "Point = namedtuple('Point', ['x', 'y'])\n",
        "p1 = Point(3, 5)\n",
        "p2 = Point(-1, 2)\n",
        "print(\"Coordinates of p1:\", p1.x, p1.y)"
      ],
      "metadata": {
        "colab": {
          "base_uri": "https://localhost:8080/"
        },
        "id": "dk9vC5Kk4OdF",
        "outputId": "fce2c953-75f5-4211-a51c-ff6bb11f70ed"
      },
      "execution_count": 26,
      "outputs": [
        {
          "output_type": "stream",
          "name": "stdout",
          "text": [
            "Coordinates of p1: 3 5\n"
          ]
        }
      ]
    },
    {
      "cell_type": "code",
      "source": [
        "coordinates = (3, 5)"
      ],
      "metadata": {
        "id": "Z2rL4TiY5J0O"
      },
      "execution_count": null,
      "outputs": []
    },
    {
      "cell_type": "code",
      "source": [
        "person = {'name': 'Alice', 'age': 30, 'city': 'New York'}\n",
        "print(\"Name:\", person['name'])\n",
        "person['age'] = 31\n",
        "print(\"Updated age:\", person['age'])\n",
        "for key, value in person.items():\n",
        "     print(f\"{key}: {value}\")"
      ],
      "metadata": {
        "colab": {
          "base_uri": "https://localhost:8080/"
        },
        "id": "yuSf2gmm5Veh",
        "outputId": "0543b5c9-1505-41bc-d922-604d04f2b11d"
      },
      "execution_count": 27,
      "outputs": [
        {
          "output_type": "stream",
          "name": "stdout",
          "text": [
            "Name: Alice\n",
            "Updated age: 31\n",
            "name: Alice\n",
            "age: 31\n",
            "city: New York\n"
          ]
        }
      ]
    },
    {
      "cell_type": "code",
      "source": [
        "numbers = [1, 2, 3, 4, 5]\n",
        "square_dict = {num: num**2 for num in numbers}\n",
        "print(\"Dictionary of squares:\", square_dict)"
      ],
      "metadata": {
        "colab": {
          "base_uri": "https://localhost:8080/"
        },
        "id": "LMyu9dLL6tE_",
        "outputId": "f5219cfc-c43a-4215-e890-45fe856ffe26"
      },
      "execution_count": 29,
      "outputs": [
        {
          "output_type": "stream",
          "name": "stdout",
          "text": [
            "Dictionary of squares: {1: 1, 2: 4, 3: 9, 4: 16, 5: 25}\n"
          ]
        }
      ]
    },
    {
      "cell_type": "code",
      "source": [
        "person = {'name': 'Alice', 'age': 30}\n",
        "city = person.get('city', 'Unknow')\n",
        "print(\"City:\", city)"
      ],
      "metadata": {
        "colab": {
          "base_uri": "https://localhost:8080/"
        },
        "id": "ThIuS2lB7sx-",
        "outputId": "7fb5f44b-5ee3-414c-a958-471c905d6145"
      },
      "execution_count": 30,
      "outputs": [
        {
          "output_type": "stream",
          "name": "stdout",
          "text": [
            "City: Unknow\n"
          ]
        }
      ]
    },
    {
      "cell_type": "code",
      "source": [
        "cities = {\n",
        "    'New York': [32, 25, 30, 28, 35],\n",
        "    'Los Angeles':[75, 68, 72, 70, 80],\n",
        "    'Chicago':[20, 18, 22, 25, 15]\n",
        "}\n",
        "averages = {city: sum(temps) / len(temps) for city, temps in cities.items()}\n",
        "print(\"Average temperatures:\", averages)"
      ],
      "metadata": {
        "colab": {
          "base_uri": "https://localhost:8080/"
        },
        "id": "v1O93GNu8Oai",
        "outputId": "b7bb6d1f-e863-4353-d0d4-bee6728efa7f"
      },
      "execution_count": 31,
      "outputs": [
        {
          "output_type": "stream",
          "name": "stdout",
          "text": [
            "Average temperatures: {'New York': 30.0, 'Los Angeles': 73.0, 'Chicago': 20.0}\n"
          ]
        }
      ]
    },
    {
      "cell_type": "code",
      "source": [
        "length = 5\n",
        "width = 3\n",
        "area = length * width\n",
        "print(\"Area of the rectangle:\", area)"
      ],
      "metadata": {
        "colab": {
          "base_uri": "https://localhost:8080/"
        },
        "id": "dwk_JUir9xjy",
        "outputId": "25a66c99-e221-46dd-e639-74d5fcc90053"
      },
      "execution_count": 32,
      "outputs": [
        {
          "output_type": "stream",
          "name": "stdout",
          "text": [
            "Area of the rectangle: 15\n"
          ]
        }
      ]
    }
  ]
}